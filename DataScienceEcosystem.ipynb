{
 "cells": [
  {
   "cell_type": "markdown",
   "id": "d686513b",
   "metadata": {},
   "source": [
    "# Data Science Tools and Ecosystem"
   ]
  },
  {
   "cell_type": "markdown",
   "id": "91d198e2",
   "metadata": {},
   "source": [
    "In this notebook, Data Science Tools and Ecosystem are summarized."
   ]
  },
  {
   "cell_type": "markdown",
   "id": "5e04dee4",
   "metadata": {},
   "source": [
    " \n",
    " \n",
    " Some of the popular languages that Data Scientists use are:\n",
    " \n",
    " <ol>\n",
    "    <li>Python</li>\n",
    "    <li>R</li>\n",
    "    <li>SQL</li>\n",
    "    <li>Julia</li>\n",
    " </ol>"
   ]
  },
  {
   "cell_type": "markdown",
   "id": "61db367c",
   "metadata": {},
   "source": [
    "\n",
    "\n",
    "Some of the commonly used libraries used by Data Scientists include:\n",
    "<ol>\n",
    "    <li>Numpy</li>\n",
    "    <li>Pandas</li>\n",
    "    <li>Tensorflow</li>\n",
    "    <li>Matplotlib</li>\n",
    "</ol>"
   ]
  },
  {
   "cell_type": "markdown",
   "id": "37f9ebfd",
   "metadata": {},
   "source": [
    "|Data Science Tools|\n",
    "|-----|\n",
    "|RStudio|\n",
    "|RapidMiner|    \n",
    "|Apache Spark|\n",
    "|Apache Hadoop|"
   ]
  },
  {
   "cell_type": "markdown",
   "id": "16f283b2",
   "metadata": {},
   "source": [
    "\n",
    "\n",
    "### Below are a few examples of evaluating arithmetic expressions in Python\n",
    "\n",
    "\n",
    "$\\sqrt{3x-1}+(1+x)^2$\n",
    "\n",
    "$\\hat{Y} = \\hat{\\beta}_{0} + \\sum \\limits _{j=1} ^{p} X_{j}\\hat{\\beta}_{j} $\n",
    "\n"
   ]
  },
  {
   "cell_type": "markdown",
   "id": "8f61e8ed",
   "metadata": {},
   "source": [
    "   "
   ]
  },
  {
   "cell_type": "markdown",
   "id": "fe8011c8",
   "metadata": {},
   "source": [
    "  "
   ]
  },
  {
   "cell_type": "markdown",
   "id": "faa4f92e",
   "metadata": {},
   "source": [
    "   "
   ]
  },
  {
   "cell_type": "code",
   "execution_count": 6,
   "id": "532ff852",
   "metadata": {},
   "outputs": [
    {
     "name": "stdout",
     "output_type": "stream",
     "text": [
      "17\n"
     ]
    }
   ],
   "source": [
    "#This is a simple arithmetic expression to mutiply then add integers\n",
    "y=(3*4)\n",
    "z=y+5\n",
    "print(z)"
   ]
  },
  {
   "cell_type": "code",
   "execution_count": 19,
   "id": "36a60446",
   "metadata": {},
   "outputs": [
    {
     "name": "stdout",
     "output_type": "stream",
     "text": [
      "3.3333333333333335\n"
     ]
    }
   ],
   "source": [
    "#This will convert 200 minutes to hours by diving by 60\n",
    "\n",
    "x=200\n",
    "y=x/60\n",
    "print(y)"
   ]
  },
  {
   "cell_type": "markdown",
   "id": "0d29c61c",
   "metadata": {},
   "source": [
    "\n",
    "# Objectives:\n",
    "\n",
    "<ul>\n",
    "    <li> Markdown cell to list data science languages</li>\n",
    "    <li> Markdown cell to list data science libraries</li>\n",
    "    <li> Markdown cell with a table of Data Science tools</li>\n",
    "    <li> Code cell to multiply and add numbers</li>\n",
    "    <li> Code cell to convert minutes to hours</li>\n",
    "</ul>"
   ]
  },
  {
   "cell_type": "markdown",
   "id": "0c5aa7f5",
   "metadata": {},
   "source": [
    "\n",
    "## Author\n",
    " Kashif Ali\n"
   ]
  },
  {
   "cell_type": "code",
   "execution_count": null,
   "id": "f71bca8b",
   "metadata": {},
   "outputs": [],
   "source": []
  }
 ],
 "metadata": {
  "kernelspec": {
   "display_name": "Python 3 (ipykernel)",
   "language": "python",
   "name": "python3"
  },
  "language_info": {
   "codemirror_mode": {
    "name": "ipython",
    "version": 3
   },
   "file_extension": ".py",
   "mimetype": "text/x-python",
   "name": "python",
   "nbconvert_exporter": "python",
   "pygments_lexer": "ipython3",
   "version": "3.11.5"
  }
 },
 "nbformat": 4,
 "nbformat_minor": 5
}
